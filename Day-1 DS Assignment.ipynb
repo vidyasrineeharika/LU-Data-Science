{
 "cells": [
  {
   "cell_type": "markdown",
   "metadata": {},
   "source": [
    "### 1.Given the following jumbled word, OBANWRI guess the correct English word.\n",
    "\n",
    "##### A. RANIBOW\n",
    "##### B. RAINBOW\n",
    "##### C. BOWRANI\n",
    "##### D. ROBWANI"
   ]
  },
  {
   "cell_type": "code",
   "execution_count": 3,
   "metadata": {},
   "outputs": [
    {
     "name": "stdout",
     "output_type": "stream",
     "text": [
      "correct word: RAINBOW\n"
     ]
    }
   ],
   "source": [
    "n='OBANWRI'\n",
    "a='RANIBOW'\n",
    "b='RAINBOW'\n",
    "c='BOWRANI'\n",
    "d='ROBWANI'\n",
    "print(\"correct word:\",b)"
   ]
  },
  {
   "cell_type": "markdown",
   "metadata": {},
   "source": [
    "### Write a program which prints “LETS UPGRADE”. (Please note that you have to print in ALL CAPS as given)\n"
   ]
  },
  {
   "cell_type": "code",
   "execution_count": 1,
   "metadata": {},
   "outputs": [
    {
     "name": "stdout",
     "output_type": "stream",
     "text": [
      "LETS UPGRADE\n"
     ]
    }
   ],
   "source": [
    "print(\"LETS UPGRADE\")"
   ]
  },
  {
   "cell_type": "markdown",
   "metadata": {},
   "source": [
    "### 3. Write a program that takes cost price and selling price as input and displays whether the transaction is a Profit or a Loss or Neither."
   ]
  },
  {
   "cell_type": "code",
   "execution_count": 9,
   "metadata": {},
   "outputs": [
    {
     "name": "stdout",
     "output_type": "stream",
     "text": [
      "20\n",
      "10\n",
      "Loss\n"
     ]
    }
   ],
   "source": [
    "def transaction(cp,sp):\n",
    "    if(cp>sp):\n",
    "        return (\"Loss\")\n",
    "    elif (cp==sp):\n",
    "        return(\"Neither\")\n",
    "    else:\n",
    "        return (\"Profit\")\n",
    "cp=int(input())\n",
    "sp=int(input())\n",
    "print(transaction(cp,sp))"
   ]
  },
  {
   "cell_type": "markdown",
   "metadata": {},
   "source": [
    "### 4.Write a program that takes an amount in Euros as input. You need to find its equivalent in Rupees and display it."
   ]
  },
  {
   "cell_type": "code",
   "execution_count": 13,
   "metadata": {},
   "outputs": [
    {
     "name": "stdout",
     "output_type": "stream",
     "text": [
      "78\n",
      "6240\n"
     ]
    }
   ],
   "source": [
    "def convert(n):\n",
    "    return n*80\n",
    "n=int(input())\n",
    "print(convert(n))"
   ]
  }
 ],
 "metadata": {
  "kernelspec": {
   "display_name": "Python 3",
   "language": "python",
   "name": "python3"
  },
  "language_info": {
   "codemirror_mode": {
    "name": "ipython",
    "version": 3
   },
   "file_extension": ".py",
   "mimetype": "text/x-python",
   "name": "python",
   "nbconvert_exporter": "python",
   "pygments_lexer": "ipython3",
   "version": "3.7.6"
  }
 },
 "nbformat": 4,
 "nbformat_minor": 4
}
