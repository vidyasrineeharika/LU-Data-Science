{
 "cells": [
  {
   "cell_type": "markdown",
   "metadata": {},
   "source": [
    "### Create a numpy array starting from 2 till 50 with a stepsize of 3."
   ]
  },
  {
   "cell_type": "code",
   "execution_count": 9,
   "metadata": {},
   "outputs": [
    {
     "name": "stdout",
     "output_type": "stream",
     "text": [
      "[ 2  5  8 11 14 17 20 23 26 29 32 35 38 41 44 47]\n"
     ]
    }
   ],
   "source": [
    "import numpy as np\n",
    "a=np.arange(2,50,3)\n",
    "print(a)"
   ]
  },
  {
   "cell_type": "markdown",
   "metadata": {},
   "source": [
    "### Accept two lists of 5 elements each from the user.\n",
    "### Convert them to numpy arrays. Concatenate these arrays and print it. Also sort these arrays and print it."
   ]
  },
  {
   "cell_type": "code",
   "execution_count": 20,
   "metadata": {},
   "outputs": [
    {
     "name": "stdout",
     "output_type": "stream",
     "text": [
      "iewh\n",
      "fejw\n",
      "ei\n",
      "eqjijew\n",
      "eiji\n",
      "ejioejdi\n",
      "qwjdojed\n",
      "qwii\n",
      "iq3\n",
      "j3eqj\n",
      "['iewh' 'fejw' 'ei' 'eqjijew' 'eiji' 'ejioejdi' 'qwjdojed' 'qwii' 'iq3'\n",
      " 'j3eqj']\n",
      "['ei' 'eiji' 'ejioejdi' 'eqjijew' 'fejw' 'iewh' 'iq3' 'j3eqj' 'qwii'\n",
      " 'qwjdojed']\n"
     ]
    }
   ],
   "source": [
    "import numpy as np\n",
    "n=[]\n",
    "l=[]\n",
    "for i in range(5):\n",
    "    a=input()\n",
    "    n.append(a)\n",
    "for i in range(5):\n",
    "    b=input()\n",
    "    l.append(b)\n",
    "p=np.array(n)\n",
    "q=np.array(l)\n",
    "o=np.concatenate((p,q))\n",
    "print(o)\n",
    "print(np.sort(o))"
   ]
  },
  {
   "cell_type": "markdown",
   "metadata": {},
   "source": [
    "### Write a code snippet to find the dimensions of a ndarray and its size."
   ]
  },
  {
   "cell_type": "code",
   "execution_count": 41,
   "metadata": {},
   "outputs": [
    {
     "name": "stdout",
     "output_type": "stream",
     "text": [
      "Dimensions:  2\n",
      "Size of array:  6\n"
     ]
    }
   ],
   "source": [
    "import numpy as np\n",
    "arr = np.array ([[ 1, 2, 3],\n",
    "                 [ 4,4,5]] )\n",
    " \n",
    "print(\"Dimensions: \", arr.ndim)\n",
    "print(\"Size of array: \", arr.size)"
   ]
  },
  {
   "cell_type": "markdown",
   "metadata": {},
   "source": [
    "### How to convert a 1D array into a 2D array? Demonstrate with the help of a code snippet\n",
    "Hint: np.newaxis, np.expand_dims"
   ]
  },
  {
   "cell_type": "code",
   "execution_count": 50,
   "metadata": {},
   "outputs": [
    {
     "name": "stdout",
     "output_type": "stream",
     "text": [
      "(5,)\n",
      "(1, 5)\n",
      "(5, 1)\n"
     ]
    },
    {
     "data": {
      "text/plain": [
       "(6, 1)"
      ]
     },
     "execution_count": 50,
     "metadata": {},
     "output_type": "execute_result"
    }
   ],
   "source": [
    "import numpy as np\n",
    "a = np.array([1, 2, 3, 4, 5])\n",
    "print(a.shape)\n",
    "b = a[np.newaxis, :]\n",
    "print(b.shape)\n",
    "c = np.expand_dims(a, axis=1)\n",
    "print(c.shape)\n",
    "(6, 1)"
   ]
  },
  {
   "cell_type": "markdown",
   "metadata": {},
   "source": [
    "### Consider two square numpy arrays. Stack them vertically and horizontally.\n",
    "Hint: Use vstack(), hstack()\n"
   ]
  },
  {
   "cell_type": "code",
   "execution_count": 53,
   "metadata": {},
   "outputs": [
    {
     "name": "stdout",
     "output_type": "stream",
     "text": [
      "[[1 2 3]\n",
      " [2 3 4]]\n",
      "[1 2 3 2 3 4]\n"
     ]
    }
   ],
   "source": [
    "a = np.array([1, 2, 3])\n",
    "b = np.array([2, 3, 4])\n",
    "print(np.vstack((a,b)))\n",
    "print(np.hstack((a,b)))"
   ]
  },
  {
   "cell_type": "markdown",
   "metadata": {},
   "source": [
    "### How to get unique items and counts of unique items?"
   ]
  },
  {
   "cell_type": "code",
   "execution_count": 57,
   "metadata": {},
   "outputs": [
    {
     "name": "stdout",
     "output_type": "stream",
     "text": [
      "[[12 13 23 31 44 54]\n",
      " [ 2  3  2  1  1  1]]\n"
     ]
    }
   ],
   "source": [
    "a=np.array([12,13,13,13,12, 23, 23, 44, 54, 31])\n",
    "(u, c) = np.unique(a, return_counts=True)\n",
    "count = np.asarray((u,c))\n",
    "print(count)"
   ]
  },
  {
   "cell_type": "code",
   "execution_count": null,
   "metadata": {},
   "outputs": [],
   "source": []
  }
 ],
 "metadata": {
  "kernelspec": {
   "display_name": "Python 3",
   "language": "python",
   "name": "python3"
  },
  "language_info": {
   "codemirror_mode": {
    "name": "ipython",
    "version": 3
   },
   "file_extension": ".py",
   "mimetype": "text/x-python",
   "name": "python",
   "nbconvert_exporter": "python",
   "pygments_lexer": "ipython3",
   "version": "3.7.6"
  }
 },
 "nbformat": 4,
 "nbformat_minor": 4
}
